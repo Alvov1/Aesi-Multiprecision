!git clone https://github.com/Alvov1/Aesi-Multiprecision.git
!mkdir Aesi-Multiprecision/test/cmake-build
!cmake -S Aesi-Multiprecision/test -B Aesi-Multiprecision/test/cmake-build
!make -C Aesi-Multiprecision/test/cmake-build
!./Aesi-Multiprecision/test/cmake-build/AesiMultiprecisionTesting